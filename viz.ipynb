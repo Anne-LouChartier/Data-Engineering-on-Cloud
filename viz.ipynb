{
 "cells": [
  {
   "cell_type": "markdown",
   "metadata": {},
   "source": [
    "# Import et installation des librairies"
   ]
  },
  {
   "cell_type": "code",
   "execution_count": null,
   "metadata": {},
   "outputs": [],
   "source": [
    "%pip install plotly polars\n",
    "%pip install nbformat\n",
    "import plotly.express as px\n",
    "import plotly.graph_objects as go\n",
    "from plotly.subplots import make_subplots\n",
    "import polars as pl"
   ]
  },
  {
   "cell_type": "markdown",
   "metadata": {},
   "source": [
    "# Import du CSV"
   ]
  },
  {
   "cell_type": "code",
   "execution_count": null,
   "metadata": {},
   "outputs": [],
   "source": [
    "df = pl.read_csv(\"Données_sommeil.csv\", separator=\",\")"
   ]
  },
  {
   "cell_type": "code",
   "execution_count": null,
   "metadata": {},
   "outputs": [],
   "source": [
    "df.describe()"
   ]
  },
  {
   "cell_type": "code",
   "execution_count": null,
   "metadata": {},
   "outputs": [],
   "source": [
    "df.head()"
   ]
  },
  {
   "cell_type": "markdown",
   "metadata": {},
   "source": [
    "# Visualisation"
   ]
  },
  {
   "cell_type": "markdown",
   "metadata": {},
   "source": [
    "## Dates"
   ]
  },
  {
   "cell_type": "code",
   "execution_count": null,
   "metadata": {},
   "outputs": [],
   "source": [
    "fig3 = px.histogram(df, x=\"Day\")\n",
    "fig3.show()"
   ]
  },
  {
   "cell_type": "markdown",
   "metadata": {},
   "source": [
    "On voit bien une distribution plutot uniforme des dates, il n'y a donc pas de problématique de saisonnalité ou autre, la date n'est donc pas une donnée à prendre en compte."
   ]
  },
  {
   "cell_type": "markdown",
   "metadata": {},
   "source": [
    "## Temps au lit vs temp de sommeil"
   ]
  },
  {
   "cell_type": "code",
   "execution_count": null,
   "metadata": {},
   "outputs": [],
   "source": [
    "fig = go.Figure()\n",
    "fig.add_trace(go.Histogram(x=df[\"Time in Bed\"], name=\"Minutes au lit\", marker_color=\"red\"))\n",
    "# fig.add_trace(go.Histogram(x=df[\"Minutes REM Sleep\"], name=\"Sommeil REM\", marker_color=\"purple\"))\n",
    "fig.add_trace(go.Histogram(x=df[\"Minutes Deep Sleep\"], name=\"Sommeil profond\", marker_color=\"blue\"))\n",
    "fig.update_layout(barmode='overlay')\n",
    "fig.update_traces(opacity=0.5)\n",
    "fig.show()"
   ]
  },
  {
   "cell_type": "code",
   "execution_count": null,
   "metadata": {},
   "outputs": [],
   "source": [
    "fig = make_subplots(rows=2, cols=2)\n",
    "\n",
    "trace1 = go.Histogram(x=df[\"Time in Bed\"], name=\"Temps au lit\", marker_color=\"black\")\n",
    "trace2 = go.Histogram(x=df[\"Minutes Light Sleep\"], name=\"Sommeil profond\", marker_color=\"red\")\n",
    "trace3 = go.Histogram(x=df[\"Minutes REM Sleep\"], name=\"Sommeil REM\", marker_color=\"purple\")\n",
    "trace4 = go.Histogram(x=df[\"Minutes Deep Sleep\"], name=\"Sommeil profond\", marker_color=\"blue\")\n",
    "\n",
    "fig.append_trace(trace1, 1, 1)\n",
    "fig.append_trace(trace2, 1, 2)\n",
    "fig.append_trace(trace3, 2, 1)\n",
    "fig.append_trace(trace4, 2, 2)\n",
    "\n",
    "fig.update_layout(title=\"Histogrammes des différents temps passés au lit et des types de sommeil\")\n",
    "\n",
    "for i in range(1, 3):\n",
    "    for j in range(1, 3):\n",
    "        fig.update_xaxes(title_text='Minutes', row=i, col=j)\n",
    "        fig.update_yaxes(title_text='Effectif', row=i, col=j)\n",
    "\n",
    "fig.show()"
   ]
  },
  {
   "cell_type": "markdown",
   "metadata": {},
   "source": [
    "## Niveau d'activité"
   ]
  },
  {
   "cell_type": "code",
   "execution_count": null,
   "metadata": {},
   "outputs": [],
   "source": [
    "\t\t\t\n",
    "fig = make_subplots(rows=4, cols=1)\n",
    "\n",
    "fig.add_trace(go.Box(x=df[\"Minutes Sedentary\"], name=\"Temps sédentaire\", marker_color=\"black\"), row=1, col=1)\n",
    "fig.add_trace(go.Box(x=df[\"Minutes Lightly Active\"], name=\"Temps d'activité faible\", marker_color=\"green\"), row=2, col=1)\n",
    "fig.add_trace(go.Box(x=df[\"Minutes Fairly Active\"], name=\"Temps d'activité modérée\", marker_color=\"yellow\"), row=3, col=1)\n",
    "fig.add_trace(go.Box(x=df[\"Minutes Very Active\"], name=\"Temps d'activité forte\", marker_color=\"red\"), row=4, col=1)\n",
    "\n",
    "fig.update_layout(title=\"Boites à moustaches des différents temps de sédentarité et d'activité en minutes\")\n",
    "\n",
    "fig.show()"
   ]
  },
  {
   "cell_type": "markdown",
   "metadata": {},
   "source": [
    "Rajouter des graphiques par rapport aux pas et aux calories... à voir\n"
   ]
  },
  {
   "cell_type": "code",
   "execution_count": null,
   "metadata": {},
   "outputs": [],
   "source": [
    "fig = px.density_heatmap(df, x=\"Steps\", y=\"Calories Burned\")\n",
    "fig.show()"
   ]
  },
  {
   "cell_type": "code",
   "execution_count": null,
   "metadata": {},
   "outputs": [],
   "source": [
    "fig = px.scatter(df, x=\"Steps\", y=\"Calories Burned\")\n",
    "fig.show()"
   ]
  },
  {
   "cell_type": "code",
   "execution_count": null,
   "metadata": {},
   "outputs": [],
   "source": [
    "bin_edges = [10000, 15000, 20000]\n",
    "steps_bin = pl.Series(df[\"Steps\"].cut(breaks=bin_edges, labels=[\"<=10k\", \"<=15k\", \"<=20k\", \">20k\"]))"
   ]
  },
  {
   "cell_type": "code",
   "execution_count": null,
   "metadata": {},
   "outputs": [],
   "source": [
    "df_bis =  df.with_columns(steps_bin.alias(\"Step Brackets\"))"
   ]
  },
  {
   "cell_type": "code",
   "execution_count": null,
   "metadata": {},
   "outputs": [],
   "source": [
    "df_bis.head(3)"
   ]
  },
  {
   "cell_type": "code",
   "execution_count": null,
   "metadata": {},
   "outputs": [],
   "source": [
    "fig = px.scatter_3d(df_bis, x=\"Step Brackets\", y=\"Time in Bed\", z=\"Minutes Awake\")\n",
    "fig.show()"
   ]
  },
  {
   "cell_type": "code",
   "execution_count": null,
   "metadata": {},
   "outputs": [],
   "source": [
    "fig = px.scatter(df_bis, x=\"Step Brackets\", y=\"Minutes Awake\")\n",
    "fig.show()"
   ]
  },
  {
   "cell_type": "code",
   "execution_count": null,
   "metadata": {},
   "outputs": [],
   "source": [
    "df_bis = df_bis.with_columns((pl.col(\"Minutes Awake\")/pl.col(\"Time in Bed\")*100)).alias(\"Awake Ratio\")"
   ]
  },
  {
   "cell_type": "code",
   "execution_count": null,
   "metadata": {},
   "outputs": [],
   "source": [
    "df_bis = df_bis.with_columns(\n",
    "    pl.col(\"Minutes Awake\").cut(\n",
    "        breaks=[10, 20, 30, 40, 50],\n",
    "        labels=[\"<=10%\", \"<=20%\", \"<=30%\", \"<=40k%\", \"<=50%\", \">50%\"]).alias(\"Awake Ratio Brackets\"))"
   ]
  },
  {
   "cell_type": "code",
   "execution_count": null,
   "metadata": {},
   "outputs": [],
   "source": [
    "px.scatter(df_bis, x=\"Step Brackets\", y=\"Awake Ratio\").show()"
   ]
  },
  {
   "cell_type": "code",
   "execution_count": null,
   "metadata": {},
   "outputs": [],
   "source": []
  }
 ],
 "metadata": {
  "kernelspec": {
   "display_name": "Python 3",
   "language": "python",
   "name": "python3"
  },
  "language_info": {
   "codemirror_mode": {
    "name": "ipython",
    "version": 3
   },
   "file_extension": ".py",
   "mimetype": "text/x-python",
   "name": "python",
   "nbconvert_exporter": "python",
   "pygments_lexer": "ipython3",
   "version": "3.10.13"
  }
 },
 "nbformat": 4,
 "nbformat_minor": 2
}
