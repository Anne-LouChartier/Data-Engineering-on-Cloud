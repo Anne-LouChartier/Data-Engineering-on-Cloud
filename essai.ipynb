{
 "cells": [
  {
   "cell_type": "markdown",
   "metadata": {},
   "source": [
    "Import des modules librairires et modules nécessaires"
   ]
  },
  {
   "cell_type": "code",
   "execution_count": 2,
   "metadata": {},
   "outputs": [
    {
     "name": "stdout",
     "output_type": "stream",
     "text": [
      "Requirement already satisfied: polars in /Library/Frameworks/Python.framework/Versions/3.10/lib/python3.10/site-packages (0.20.26)\n",
      "\u001b[33mWARNING: You are using pip version 22.0.4; however, version 24.0 is available.\n",
      "You should consider upgrading via the '/usr/local/bin/python3 -m pip install --upgrade pip' command.\u001b[0m\u001b[33m\n",
      "\u001b[0mNote: you may need to restart the kernel to use updated packages.\n"
     ]
    }
   ],
   "source": [
    "%pip install polars\n",
    "import numpy as np\n",
    "import polars as pl\n",
    "from datetime import datetime, timedelta"
   ]
  },
  {
   "cell_type": "markdown",
   "metadata": {},
   "source": [
    "Création premier df valeurs numériques activités utilisateurs "
   ]
  },
  {
   "cell_type": "markdown",
   "metadata": {},
   "source": [
    "Test avec Polars"
   ]
  },
  {
   "cell_type": "code",
   "execution_count": 3,
   "metadata": {},
   "outputs": [],
   "source": [
    "# Nombre de jours\n",
    "num_days = 500000\n",
    "start_date = datetime.strptime('2015-01-01', '%Y-%m-%d')\n",
    "end_date = datetime.now()\n",
    "dates = np.array([start_date + timedelta(days=np.random.randint(0, (end_date - start_date).days)) for _ in range(num_days)])\n",
    "\n",
    "# Création des données basées sur une distribution normale poir ne pas avoir de valeurs étranges\n",
    "data = {\n",
    "    'User_id': pl.Series('User_id', range(1, num_days + 1)),\n",
    "    'Day': [date.strftime('%d-%b') for date in dates],\n",
    "    'Calories Burned': pl.Series('Calories Burned', np.random.normal(2200, 200, size=num_days)),\n",
    "    'Steps': pl.Series('Steps', np.random.normal(15000, 2000, size=num_days)),\n",
    "    'Distance': pl.Series('Distance', np.random.normal(5, 1, size=num_days)),\n",
    "    'Minutes Sedentary': pl.Series('Minutes Sedentary', np.random.normal(600, 100, size=num_days)),\n",
    "    'Minutes Lightly Active': pl.Series('Minutes Lightly Active', np.random.normal(200, 50, size=num_days)),\n",
    "    'Minutes Fairly Active': pl.Series('Minutes Fairly Active', np.random.normal(20, 10, size=num_days)),\n",
    "    'Minutes Very Active': pl.Series('Minutes Very Active', np.random.normal(20, 10, size=num_days)),\n",
    "    'Activity Calories': pl.Series('Activity Calories', np.random.normal(1000, 200, size=num_days)),\n",
    "    'Minutes Asleep': pl.Series('Minutes Asleep', np.random.normal(350, 50, size=num_days)),\n",
    "    'Minutes Awake': pl.Series('Minutes Awake', np.random.normal(60, 20, size=num_days)),\n",
    "    'Number of Awakenings': pl.Series('Number of Awakenings', np.random.normal(10, 5, size=num_days)),\n",
    "    'Time in Bed': pl.Series('Time in Bed', np.random.normal(450, 60, size=num_days)),\n",
    "    'Minutes REM Sleep': pl.Series('Minutes REM Sleep', np.random.normal(100, 20, size=num_days)),\n",
    "    'Minutes Light Sleep': pl.Series('Minutes Light Sleep', np.random.normal(250, 50, size=num_days)),\n",
    "    'Minutes Deep Sleep': pl.Series('Minutes Deep Sleep', np.random.normal(100, 20, size=num_days))\n",
    "}\n",
    "\n",
    "# Création du DataFrame Polars\n",
    "df = pl.DataFrame(data)"
   ]
  },
  {
   "cell_type": "markdown",
   "metadata": {},
   "source": [
    "Schéma du df"
   ]
  },
  {
   "cell_type": "code",
   "execution_count": 3,
   "metadata": {},
   "outputs": [
    {
     "data": {
      "text/plain": [
       "(500000, 17)"
      ]
     },
     "execution_count": 3,
     "metadata": {},
     "output_type": "execute_result"
    }
   ],
   "source": [
    "df.shape"
   ]
  },
  {
   "cell_type": "markdown",
   "metadata": {},
   "source": [
    "Stats descriptives du dataframe 1:"
   ]
  },
  {
   "cell_type": "code",
   "execution_count": 4,
   "metadata": {},
   "outputs": [
    {
     "data": {
      "text/html": [
       "<div><style>\n",
       ".dataframe > thead > tr,\n",
       ".dataframe > tbody > tr {\n",
       "  text-align: right;\n",
       "  white-space: pre-wrap;\n",
       "}\n",
       "</style>\n",
       "<small>shape: (9, 18)</small><table border=\"1\" class=\"dataframe\"><thead><tr><th>statistic</th><th>User_id</th><th>Day</th><th>Calories Burned</th><th>Steps</th><th>Distance</th><th>Minutes Sedentary</th><th>Minutes Lightly Active</th><th>Minutes Fairly Active</th><th>Minutes Very Active</th><th>Activity Calories</th><th>Minutes Asleep</th><th>Minutes Awake</th><th>Number of Awakenings</th><th>Time in Bed</th><th>Minutes REM Sleep</th><th>Minutes Light Sleep</th><th>Minutes Deep Sleep</th></tr><tr><td>str</td><td>f64</td><td>str</td><td>f64</td><td>f64</td><td>f64</td><td>f64</td><td>f64</td><td>f64</td><td>f64</td><td>f64</td><td>f64</td><td>f64</td><td>f64</td><td>f64</td><td>f64</td><td>f64</td><td>f64</td></tr></thead><tbody><tr><td>&quot;count&quot;</td><td>500000.0</td><td>&quot;500000&quot;</td><td>500000.0</td><td>500000.0</td><td>500000.0</td><td>500000.0</td><td>500000.0</td><td>500000.0</td><td>500000.0</td><td>500000.0</td><td>500000.0</td><td>500000.0</td><td>500000.0</td><td>500000.0</td><td>500000.0</td><td>500000.0</td><td>500000.0</td></tr><tr><td>&quot;null_count&quot;</td><td>0.0</td><td>&quot;0&quot;</td><td>0.0</td><td>0.0</td><td>0.0</td><td>0.0</td><td>0.0</td><td>0.0</td><td>0.0</td><td>0.0</td><td>0.0</td><td>0.0</td><td>0.0</td><td>0.0</td><td>0.0</td><td>0.0</td><td>0.0</td></tr><tr><td>&quot;mean&quot;</td><td>250000.5</td><td>null</td><td>2200.513148</td><td>14998.480115</td><td>5.000883</td><td>599.883237</td><td>200.027515</td><td>19.990853</td><td>20.023057</td><td>1000.323278</td><td>349.998706</td><td>60.019923</td><td>10.004967</td><td>450.005684</td><td>100.040819</td><td>250.160094</td><td>99.988459</td></tr><tr><td>&quot;std&quot;</td><td>144337.711635</td><td>null</td><td>200.179112</td><td>1999.237494</td><td>1.000653</td><td>99.967826</td><td>50.017084</td><td>10.023701</td><td>9.997221</td><td>199.934353</td><td>49.994795</td><td>19.992583</td><td>4.993519</td><td>59.918122</td><td>20.007074</td><td>50.022069</td><td>20.021512</td></tr><tr><td>&quot;min&quot;</td><td>1.0</td><td>&quot;01-Apr&quot;</td><td>1298.377887</td><td>5707.849131</td><td>0.52332</td><td>111.381843</td><td>-39.647331</td><td>-23.550161</td><td>-27.036895</td><td>48.623362</td><td>100.750624</td><td>-30.889115</td><td>-12.696687</td><td>162.55034</td><td>3.614543</td><td>18.48783</td><td>12.670889</td></tr><tr><td>&quot;25%&quot;</td><td>125001.0</td><td>null</td><td>2065.535302</td><td>13645.732766</td><td>4.327227</td><td>532.343706</td><td>166.374198</td><td>13.242142</td><td>13.286002</td><td>865.633054</td><td>316.272751</td><td>46.558684</td><td>6.629895</td><td>409.375881</td><td>86.591684</td><td>216.45313</td><td>86.513007</td></tr><tr><td>&quot;50%&quot;</td><td>250001.0</td><td>null</td><td>2200.166657</td><td>14998.209257</td><td>5.002487</td><td>599.709119</td><td>200.057179</td><td>20.009027</td><td>20.012442</td><td>1000.22872</td><td>349.900735</td><td>60.032936</td><td>10.000324</td><td>450.009084</td><td>100.034639</td><td>250.138529</td><td>99.980293</td></tr><tr><td>&quot;75%&quot;</td><td>375000.0</td><td>null</td><td>2335.341914</td><td>16349.40194</td><td>5.676382</td><td>667.313589</td><td>233.746926</td><td>26.747538</td><td>26.760287</td><td>1135.068164</td><td>383.77443</td><td>73.502136</td><td>13.368244</td><td>490.611867</td><td>113.523477</td><td>283.851283</td><td>113.499911</td></tr><tr><td>&quot;max&quot;</td><td>500000.0</td><td>&quot;31-Oct&quot;</td><td>3156.982954</td><td>24157.882953</td><td>9.742329</td><td>1069.701294</td><td>454.232828</td><td>68.930607</td><td>65.026121</td><td>1914.083443</td><td>614.7853</td><td>147.577114</td><td>34.46387</td><td>764.922799</td><td>193.221733</td><td>472.024118</td><td>193.892472</td></tr></tbody></table></div>"
      ],
      "text/plain": [
       "shape: (9, 18)\n",
       "┌────────────┬────────────┬────────┬───────────┬───┬───────────┬───────────┬───────────┬───────────┐\n",
       "│ statistic  ┆ User_id    ┆ Day    ┆ Calories  ┆ … ┆ Time in   ┆ Minutes   ┆ Minutes   ┆ Minutes   │\n",
       "│ ---        ┆ ---        ┆ ---    ┆ Burned    ┆   ┆ Bed       ┆ REM Sleep ┆ Light     ┆ Deep      │\n",
       "│ str        ┆ f64        ┆ str    ┆ ---       ┆   ┆ ---       ┆ ---       ┆ Sleep     ┆ Sleep     │\n",
       "│            ┆            ┆        ┆ f64       ┆   ┆ f64       ┆ f64       ┆ ---       ┆ ---       │\n",
       "│            ┆            ┆        ┆           ┆   ┆           ┆           ┆ f64       ┆ f64       │\n",
       "╞════════════╪════════════╪════════╪═══════════╪═══╪═══════════╪═══════════╪═══════════╪═══════════╡\n",
       "│ count      ┆ 500000.0   ┆ 500000 ┆ 500000.0  ┆ … ┆ 500000.0  ┆ 500000.0  ┆ 500000.0  ┆ 500000.0  │\n",
       "│ null_count ┆ 0.0        ┆ 0      ┆ 0.0       ┆ … ┆ 0.0       ┆ 0.0       ┆ 0.0       ┆ 0.0       │\n",
       "│ mean       ┆ 250000.5   ┆ null   ┆ 2200.5131 ┆ … ┆ 450.00568 ┆ 100.04081 ┆ 250.16009 ┆ 99.988459 │\n",
       "│            ┆            ┆        ┆ 48        ┆   ┆ 4         ┆ 9         ┆ 4         ┆           │\n",
       "│ std        ┆ 144337.711 ┆ null   ┆ 200.17911 ┆ … ┆ 59.918122 ┆ 20.007074 ┆ 50.022069 ┆ 20.021512 │\n",
       "│            ┆ 635        ┆        ┆ 2         ┆   ┆           ┆           ┆           ┆           │\n",
       "│ min        ┆ 1.0        ┆ 01-Apr ┆ 1298.3778 ┆ … ┆ 162.55034 ┆ 3.614543  ┆ 18.48783  ┆ 12.670889 │\n",
       "│            ┆            ┆        ┆ 87        ┆   ┆           ┆           ┆           ┆           │\n",
       "│ 25%        ┆ 125001.0   ┆ null   ┆ 2065.5353 ┆ … ┆ 409.37588 ┆ 86.591684 ┆ 216.45313 ┆ 86.513007 │\n",
       "│            ┆            ┆        ┆ 02        ┆   ┆ 1         ┆           ┆           ┆           │\n",
       "│ 50%        ┆ 250001.0   ┆ null   ┆ 2200.1666 ┆ … ┆ 450.00908 ┆ 100.03463 ┆ 250.13852 ┆ 99.980293 │\n",
       "│            ┆            ┆        ┆ 57        ┆   ┆ 4         ┆ 9         ┆ 9         ┆           │\n",
       "│ 75%        ┆ 375000.0   ┆ null   ┆ 2335.3419 ┆ … ┆ 490.61186 ┆ 113.52347 ┆ 283.85128 ┆ 113.49991 │\n",
       "│            ┆            ┆        ┆ 14        ┆   ┆ 7         ┆ 7         ┆ 3         ┆ 1         │\n",
       "│ max        ┆ 500000.0   ┆ 31-Oct ┆ 3156.9829 ┆ … ┆ 764.92279 ┆ 193.22173 ┆ 472.02411 ┆ 193.89247 │\n",
       "│            ┆            ┆        ┆ 54        ┆   ┆ 9         ┆ 3         ┆ 8         ┆ 2         │\n",
       "└────────────┴────────────┴────────┴───────────┴───┴───────────┴───────────┴───────────┴───────────┘"
      ]
     },
     "execution_count": 4,
     "metadata": {},
     "output_type": "execute_result"
    }
   ],
   "source": [
    "df.describe()"
   ]
  },
  {
   "cell_type": "code",
   "execution_count": 5,
   "metadata": {},
   "outputs": [
    {
     "data": {
      "text/plain": [
       "['User_id',\n",
       " 'Day',\n",
       " 'Calories Burned',\n",
       " 'Steps',\n",
       " 'Distance',\n",
       " 'Minutes Sedentary',\n",
       " 'Minutes Lightly Active',\n",
       " 'Minutes Fairly Active',\n",
       " 'Minutes Very Active',\n",
       " 'Activity Calories',\n",
       " 'Minutes Asleep',\n",
       " 'Minutes Awake',\n",
       " 'Number of Awakenings',\n",
       " 'Time in Bed',\n",
       " 'Minutes REM Sleep',\n",
       " 'Minutes Light Sleep',\n",
       " 'Minutes Deep Sleep']"
      ]
     },
     "execution_count": 5,
     "metadata": {},
     "output_type": "execute_result"
    }
   ],
   "source": [
    "df.columns"
   ]
  },
  {
   "cell_type": "markdown",
   "metadata": {},
   "source": [
    "Visualisation pour assurer que data ok représentatives - Utiliser plotly pour crééer un graphique dynamique plus facile pour visualiser "
   ]
  },
  {
   "cell_type": "code",
   "execution_count": 4,
   "metadata": {},
   "outputs": [
    {
     "name": "stdout",
     "output_type": "stream",
     "text": [
      "Requirement already satisfied: plotly in /Library/Frameworks/Python.framework/Versions/3.10/lib/python3.10/site-packages (5.22.0)\n",
      "Requirement already satisfied: tenacity>=6.2.0 in /Library/Frameworks/Python.framework/Versions/3.10/lib/python3.10/site-packages (from plotly) (8.3.0)\n",
      "Requirement already satisfied: packaging in /Library/Frameworks/Python.framework/Versions/3.10/lib/python3.10/site-packages (from plotly) (21.3)\n",
      "Requirement already satisfied: pyparsing!=3.0.5,>=2.0.2 in /Library/Frameworks/Python.framework/Versions/3.10/lib/python3.10/site-packages (from packaging->plotly) (3.0.9)\n",
      "\u001b[33mWARNING: You are using pip version 22.0.4; however, version 24.0 is available.\n",
      "You should consider upgrading via the '/usr/local/bin/python3 -m pip install --upgrade pip' command.\u001b[0m\u001b[33m\n",
      "\u001b[0mNote: you may need to restart the kernel to use updated packages.\n",
      "Requirement already satisfied: pyarrow in /Library/Frameworks/Python.framework/Versions/3.10/lib/python3.10/site-packages (16.1.0)\n",
      "Requirement already satisfied: numpy>=1.16.6 in /Library/Frameworks/Python.framework/Versions/3.10/lib/python3.10/site-packages (from pyarrow) (1.23.4)\n",
      "\u001b[33mWARNING: You are using pip version 22.0.4; however, version 24.0 is available.\n",
      "You should consider upgrading via the '/usr/local/bin/python3 -m pip install --upgrade pip' command.\u001b[0m\u001b[33m\n",
      "\u001b[0mNote: you may need to restart the kernel to use updated packages.\n"
     ]
    }
   ],
   "source": [
    "%pip install plotly\n",
    "%pip install pyarrow"
   ]
  },
  {
   "cell_type": "code",
   "execution_count": 5,
   "metadata": {},
   "outputs": [],
   "source": [
    "import pandas as pd\n",
    "import plotly.express as px\n",
    "import pyarrow"
   ]
  },
  {
   "cell_type": "code",
   "execution_count": 6,
   "metadata": {},
   "outputs": [
    {
     "ename": "ValueError",
     "evalue": "Mime type rendering requires nbformat>=4.2.0 but it is not installed",
     "output_type": "error",
     "traceback": [
      "\u001b[0;31m---------------------------------------------------------------------------\u001b[0m",
      "\u001b[0;31mValueError\u001b[0m                                Traceback (most recent call last)",
      "Cell \u001b[0;32mIn [6], line 9\u001b[0m\n\u001b[1;32m      1\u001b[0m columns_to_plot \u001b[38;5;241m=\u001b[39m [\n\u001b[1;32m      2\u001b[0m     \u001b[38;5;124m'\u001b[39m\u001b[38;5;124mCalories Burned\u001b[39m\u001b[38;5;124m'\u001b[39m, \u001b[38;5;124m'\u001b[39m\u001b[38;5;124mSteps\u001b[39m\u001b[38;5;124m'\u001b[39m, \u001b[38;5;124m'\u001b[39m\u001b[38;5;124mDistance\u001b[39m\u001b[38;5;124m'\u001b[39m, \u001b[38;5;124m'\u001b[39m\u001b[38;5;124mMinutes Sedentary\u001b[39m\u001b[38;5;124m'\u001b[39m,\n\u001b[1;32m      3\u001b[0m     \u001b[38;5;124m'\u001b[39m\u001b[38;5;124mMinutes Lightly Active\u001b[39m\u001b[38;5;124m'\u001b[39m, \u001b[38;5;124m'\u001b[39m\u001b[38;5;124mMinutes Fairly Active\u001b[39m\u001b[38;5;124m'\u001b[39m, \u001b[38;5;124m'\u001b[39m\u001b[38;5;124mMinutes Very Active\u001b[39m\u001b[38;5;124m'\u001b[39m,\n\u001b[1;32m      4\u001b[0m     \u001b[38;5;124m'\u001b[39m\u001b[38;5;124mActivity Calories\u001b[39m\u001b[38;5;124m'\u001b[39m, \u001b[38;5;124m'\u001b[39m\u001b[38;5;124mMinutes Asleep\u001b[39m\u001b[38;5;124m'\u001b[39m, \u001b[38;5;124m'\u001b[39m\u001b[38;5;124mMinutes Awake\u001b[39m\u001b[38;5;124m'\u001b[39m, \u001b[38;5;124m'\u001b[39m\u001b[38;5;124mNumber of Awakenings\u001b[39m\u001b[38;5;124m'\u001b[39m,\n\u001b[1;32m      5\u001b[0m     \u001b[38;5;124m'\u001b[39m\u001b[38;5;124mTime in Bed\u001b[39m\u001b[38;5;124m'\u001b[39m, \u001b[38;5;124m'\u001b[39m\u001b[38;5;124mMinutes REM Sleep\u001b[39m\u001b[38;5;124m'\u001b[39m, \u001b[38;5;124m'\u001b[39m\u001b[38;5;124mMinutes Light Sleep\u001b[39m\u001b[38;5;124m'\u001b[39m, \u001b[38;5;124m'\u001b[39m\u001b[38;5;124mMinutes Deep Sleep\u001b[39m\u001b[38;5;124m'\u001b[39m\n\u001b[1;32m      6\u001b[0m ]\n\u001b[1;32m      8\u001b[0m fig \u001b[38;5;241m=\u001b[39m px\u001b[38;5;241m.\u001b[39mbox(df, y\u001b[38;5;241m=\u001b[39mcolumns_to_plot, title\u001b[38;5;241m=\u001b[39m\u001b[38;5;124m'\u001b[39m\u001b[38;5;124mDistribution de la population par caractéristiques\u001b[39m\u001b[38;5;124m'\u001b[39m)\n\u001b[0;32m----> 9\u001b[0m \u001b[43mfig\u001b[49m\u001b[38;5;241;43m.\u001b[39;49m\u001b[43mshow\u001b[49m\u001b[43m(\u001b[49m\u001b[43m)\u001b[49m\n",
      "File \u001b[0;32m/Library/Frameworks/Python.framework/Versions/3.10/lib/python3.10/site-packages/plotly/basedatatypes.py:3410\u001b[0m, in \u001b[0;36mBaseFigure.show\u001b[0;34m(self, *args, **kwargs)\u001b[0m\n\u001b[1;32m   3377\u001b[0m \u001b[38;5;124;03m\"\"\"\u001b[39;00m\n\u001b[1;32m   3378\u001b[0m \u001b[38;5;124;03mShow a figure using either the default renderer(s) or the renderer(s)\u001b[39;00m\n\u001b[1;32m   3379\u001b[0m \u001b[38;5;124;03mspecified by the renderer argument\u001b[39;00m\n\u001b[0;32m   (...)\u001b[0m\n\u001b[1;32m   3406\u001b[0m \u001b[38;5;124;03mNone\u001b[39;00m\n\u001b[1;32m   3407\u001b[0m \u001b[38;5;124;03m\"\"\"\u001b[39;00m\n\u001b[1;32m   3408\u001b[0m \u001b[38;5;28;01mimport\u001b[39;00m \u001b[38;5;21;01mplotly\u001b[39;00m\u001b[38;5;21;01m.\u001b[39;00m\u001b[38;5;21;01mio\u001b[39;00m \u001b[38;5;28;01mas\u001b[39;00m \u001b[38;5;21;01mpio\u001b[39;00m\n\u001b[0;32m-> 3410\u001b[0m \u001b[38;5;28;01mreturn\u001b[39;00m \u001b[43mpio\u001b[49m\u001b[38;5;241;43m.\u001b[39;49m\u001b[43mshow\u001b[49m\u001b[43m(\u001b[49m\u001b[38;5;28;43mself\u001b[39;49m\u001b[43m,\u001b[49m\u001b[43m \u001b[49m\u001b[38;5;241;43m*\u001b[39;49m\u001b[43margs\u001b[49m\u001b[43m,\u001b[49m\u001b[43m \u001b[49m\u001b[38;5;241;43m*\u001b[39;49m\u001b[38;5;241;43m*\u001b[39;49m\u001b[43mkwargs\u001b[49m\u001b[43m)\u001b[49m\n",
      "File \u001b[0;32m/Library/Frameworks/Python.framework/Versions/3.10/lib/python3.10/site-packages/plotly/io/_renderers.py:394\u001b[0m, in \u001b[0;36mshow\u001b[0;34m(fig, renderer, validate, **kwargs)\u001b[0m\n\u001b[1;32m    389\u001b[0m         \u001b[38;5;28;01mraise\u001b[39;00m \u001b[38;5;167;01mValueError\u001b[39;00m(\n\u001b[1;32m    390\u001b[0m             \u001b[38;5;124m\"\u001b[39m\u001b[38;5;124mMime type rendering requires ipython but it is not installed\u001b[39m\u001b[38;5;124m\"\u001b[39m\n\u001b[1;32m    391\u001b[0m         )\n\u001b[1;32m    393\u001b[0m     \u001b[38;5;28;01mif\u001b[39;00m \u001b[38;5;129;01mnot\u001b[39;00m nbformat \u001b[38;5;129;01mor\u001b[39;00m Version(nbformat\u001b[38;5;241m.\u001b[39m__version__) \u001b[38;5;241m<\u001b[39m Version(\u001b[38;5;124m\"\u001b[39m\u001b[38;5;124m4.2.0\u001b[39m\u001b[38;5;124m\"\u001b[39m):\n\u001b[0;32m--> 394\u001b[0m         \u001b[38;5;28;01mraise\u001b[39;00m \u001b[38;5;167;01mValueError\u001b[39;00m(\n\u001b[1;32m    395\u001b[0m             \u001b[38;5;124m\"\u001b[39m\u001b[38;5;124mMime type rendering requires nbformat>=4.2.0 but it is not installed\u001b[39m\u001b[38;5;124m\"\u001b[39m\n\u001b[1;32m    396\u001b[0m         )\n\u001b[1;32m    398\u001b[0m     ipython_display\u001b[38;5;241m.\u001b[39mdisplay(bundle, raw\u001b[38;5;241m=\u001b[39m\u001b[38;5;28;01mTrue\u001b[39;00m)\n\u001b[1;32m    400\u001b[0m \u001b[38;5;66;03m# external renderers\u001b[39;00m\n",
      "\u001b[0;31mValueError\u001b[0m: Mime type rendering requires nbformat>=4.2.0 but it is not installed"
     ]
    }
   ],
   "source": [
    "columns_to_plot = [\n",
    "    'Calories Burned', 'Steps', 'Distance', 'Minutes Sedentary',\n",
    "    'Minutes Lightly Active', 'Minutes Fairly Active', 'Minutes Very Active',\n",
    "    'Activity Calories', 'Minutes Asleep', 'Minutes Awake', 'Number of Awakenings',\n",
    "    'Time in Bed', 'Minutes REM Sleep', 'Minutes Light Sleep', 'Minutes Deep Sleep'\n",
    "]\n",
    "\n",
    "fig = px.box(df, y=columns_to_plot, title='Distribution de la population par caractéristiques')\n",
    "fig.show()"
   ]
  },
  {
   "cell_type": "code",
   "execution_count": null,
   "metadata": {},
   "outputs": [],
   "source": []
  }
 ],
 "metadata": {
  "kernelspec": {
   "display_name": "Python 3",
   "language": "python",
   "name": "python3"
  },
  "language_info": {
   "codemirror_mode": {
    "name": "ipython",
    "version": 3
   },
   "file_extension": ".py",
   "mimetype": "text/x-python",
   "name": "python",
   "nbconvert_exporter": "python",
   "pygments_lexer": "ipython3",
   "version": "3.10.5"
  }
 },
 "nbformat": 4,
 "nbformat_minor": 2
}
